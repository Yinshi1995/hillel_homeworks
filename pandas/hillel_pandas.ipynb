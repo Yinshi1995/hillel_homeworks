{
  "cells": [
    {
      "attachments": {},
      "cell_type": "markdown",
      "metadata": {
        "id": "CP4eI_wwzWPZ"
      },
      "source": [
        "<!-- <center>\n",
        "<img src=\"../../img/ods_stickers.jpg\">\n",
        "## Открытый курс по машинному обучению\n",
        "<center> -->\n",
        "Автор материала: Юрий Кашницкий, программист-исследователь Mail.Ru Group <br>\n",
        "\n",
        "Материал распространяется на условиях лицензии [Creative Commons CC BY-NC-SA 4.0](https://creativecommons.org/licenses/by-nc-sa/4.0/). Можно использовать в любых целях (редактировать, поправлять и брать за основу), кроме коммерческих, но с обязательным упоминанием автора материала."
      ]
    },
    {
      "attachments": {},
      "cell_type": "markdown",
      "metadata": {
        "id": "5MLYhihDzbu2"
      },
      "source": [
        "# <center>Домашнее задание № 1 (демо).<br> Анализ данных по доходу населения UCI Adult</center>"
      ]
    },
    {
      "attachments": {},
      "cell_type": "markdown",
      "metadata": {
        "id": "OD6AkSTbzd2Z"
      },
      "source": [
        "**В задании предлагается с помощью Pandas ответить на несколько вопросов по данным репозитория UCI [Adult](https://archive.ics.uci.edu/ml/datasets/Adult) (качать данные не надо – они уже есть в репозитории).**"
      ]
    },
    {
      "attachments": {},
      "cell_type": "markdown",
      "metadata": {
        "id": "oMlOIgzKzf8v"
      },
      "source": [
        "Уникальные значения признаков (больше информации по ссылке выше):\n",
        "- age: continuous.\n",
        "- workclass: Private, Self-emp-not-inc, Self-emp-inc, Federal-gov, Local-gov, State-gov, Without-pay, Never-worked.\n",
        "- fnlwgt: continuous.\n",
        "- education: Bachelors, Some-college, 11th, HS-grad, Prof-school, Assoc-acdm, Assoc-voc, 9th, 7th-8th, 12th, Masters, 1st-4th, 10th, Doctorate, 5th-6th, Preschool.\n",
        "- education-num: continuous.\n",
        "- marital-status: Married-civ-spouse, Divorced, Never-married, Separated, Widowed, Married-spouse-absent, Married-AF-spouse.\n",
        "- occupation: Tech-support, Craft-repair, Other-service, Sales, Exec-managerial, Prof-specialty, Handlers-cleaners, Machine-op-inspct, Adm-clerical, Farming-fishing, Transport-moving, Priv-house-serv, Protective-serv, Armed-Forces.\n",
        "- relationship: Wife, Own-child, Husband, Not-in-family, Other-relative, Unmarried.\n",
        "- race: White, Asian-Pac-Islander, Amer-Indian-Eskimo, Other, Black.\n",
        "- sex: Female, Male.\n",
        "- capital-gain: continuous.\n",
        "- capital-loss: continuous.\n",
        "- hours-per-week: continuous.\n",
        "- native-country: United-States, Cambodia, England, Puerto-Rico, Canada, Germany, Outlying-US(Guam-USVI-etc), India, Japan, Greece, South, China, Cuba, Iran, Honduras, Philippines, Italy, Poland, Jamaica, Vietnam, Mexico, Portugal, Ireland, France, Dominican-Republic, Laos, Ecuador, Taiwan, Haiti, Columbia, Hungary, Guatemala, Nicaragua, Scotland, Thailand, Yugoslavia, El-Salvador, Trinadad&Tobago, Peru, Hong, Holand-Netherlands.   \n",
        "- salary: >50K,<=50K"
      ]
    },
    {
      "cell_type": "code",
      "execution_count": 1,
      "metadata": {
        "id": "nOY6Onokzc9u"
      },
      "outputs": [],
      "source": [
        "import pandas as pd"
      ]
    },
    {
      "cell_type": "code",
      "execution_count": 3,
      "metadata": {
        "colab": {
          "base_uri": "https://localhost:8080/",
          "height": 206
        },
        "id": "rinvra1_zl20",
        "outputId": "128ff784-cf0e-4ea8-df46-8dcf8c4503fa"
      },
      "outputs": [
        {
          "data": {
            "text/html": [
              "\n",
              "  <div id=\"df-97e025fb-79ac-40f1-a12d-f59d6644e3c0\">\n",
              "    <div class=\"colab-df-container\">\n",
              "      <div>\n",
              "<style scoped>\n",
              "    .dataframe tbody tr th:only-of-type {\n",
              "        vertical-align: middle;\n",
              "    }\n",
              "\n",
              "    .dataframe tbody tr th {\n",
              "        vertical-align: top;\n",
              "    }\n",
              "\n",
              "    .dataframe thead th {\n",
              "        text-align: right;\n",
              "    }\n",
              "</style>\n",
              "<table border=\"1\" class=\"dataframe\">\n",
              "  <thead>\n",
              "    <tr style=\"text-align: right;\">\n",
              "      <th></th>\n",
              "      <th>age</th>\n",
              "      <th>workclass</th>\n",
              "      <th>fnlwgt</th>\n",
              "      <th>education</th>\n",
              "      <th>education-num</th>\n",
              "      <th>marital-status</th>\n",
              "      <th>occupation</th>\n",
              "      <th>relationship</th>\n",
              "      <th>race</th>\n",
              "      <th>sex</th>\n",
              "      <th>capital-gain</th>\n",
              "      <th>capital-loss</th>\n",
              "      <th>hours-per-week</th>\n",
              "      <th>native-country</th>\n",
              "      <th>salary</th>\n",
              "    </tr>\n",
              "  </thead>\n",
              "  <tbody>\n",
              "    <tr>\n",
              "      <th>0</th>\n",
              "      <td>39</td>\n",
              "      <td>State-gov</td>\n",
              "      <td>77516</td>\n",
              "      <td>Bachelors</td>\n",
              "      <td>13</td>\n",
              "      <td>Never-married</td>\n",
              "      <td>Adm-clerical</td>\n",
              "      <td>Not-in-family</td>\n",
              "      <td>White</td>\n",
              "      <td>Male</td>\n",
              "      <td>2174</td>\n",
              "      <td>0</td>\n",
              "      <td>40</td>\n",
              "      <td>United-States</td>\n",
              "      <td>&lt;=50K</td>\n",
              "    </tr>\n",
              "    <tr>\n",
              "      <th>1</th>\n",
              "      <td>50</td>\n",
              "      <td>Self-emp-not-inc</td>\n",
              "      <td>83311</td>\n",
              "      <td>Bachelors</td>\n",
              "      <td>13</td>\n",
              "      <td>Married-civ-spouse</td>\n",
              "      <td>Exec-managerial</td>\n",
              "      <td>Husband</td>\n",
              "      <td>White</td>\n",
              "      <td>Male</td>\n",
              "      <td>0</td>\n",
              "      <td>0</td>\n",
              "      <td>13</td>\n",
              "      <td>United-States</td>\n",
              "      <td>&lt;=50K</td>\n",
              "    </tr>\n",
              "    <tr>\n",
              "      <th>2</th>\n",
              "      <td>38</td>\n",
              "      <td>Private</td>\n",
              "      <td>215646</td>\n",
              "      <td>HS-grad</td>\n",
              "      <td>9</td>\n",
              "      <td>Divorced</td>\n",
              "      <td>Handlers-cleaners</td>\n",
              "      <td>Not-in-family</td>\n",
              "      <td>White</td>\n",
              "      <td>Male</td>\n",
              "      <td>0</td>\n",
              "      <td>0</td>\n",
              "      <td>40</td>\n",
              "      <td>United-States</td>\n",
              "      <td>&lt;=50K</td>\n",
              "    </tr>\n",
              "    <tr>\n",
              "      <th>3</th>\n",
              "      <td>53</td>\n",
              "      <td>Private</td>\n",
              "      <td>234721</td>\n",
              "      <td>11th</td>\n",
              "      <td>7</td>\n",
              "      <td>Married-civ-spouse</td>\n",
              "      <td>Handlers-cleaners</td>\n",
              "      <td>Husband</td>\n",
              "      <td>Black</td>\n",
              "      <td>Male</td>\n",
              "      <td>0</td>\n",
              "      <td>0</td>\n",
              "      <td>40</td>\n",
              "      <td>United-States</td>\n",
              "      <td>&lt;=50K</td>\n",
              "    </tr>\n",
              "    <tr>\n",
              "      <th>4</th>\n",
              "      <td>28</td>\n",
              "      <td>Private</td>\n",
              "      <td>338409</td>\n",
              "      <td>Bachelors</td>\n",
              "      <td>13</td>\n",
              "      <td>Married-civ-spouse</td>\n",
              "      <td>Prof-specialty</td>\n",
              "      <td>Wife</td>\n",
              "      <td>Black</td>\n",
              "      <td>Female</td>\n",
              "      <td>0</td>\n",
              "      <td>0</td>\n",
              "      <td>40</td>\n",
              "      <td>Cuba</td>\n",
              "      <td>&lt;=50K</td>\n",
              "    </tr>\n",
              "  </tbody>\n",
              "</table>\n",
              "</div>\n",
              "      <button class=\"colab-df-convert\" onclick=\"convertToInteractive('df-97e025fb-79ac-40f1-a12d-f59d6644e3c0')\"\n",
              "              title=\"Convert this dataframe to an interactive table.\"\n",
              "              style=\"display:none;\">\n",
              "        \n",
              "  <svg xmlns=\"http://www.w3.org/2000/svg\" height=\"24px\"viewBox=\"0 0 24 24\"\n",
              "       width=\"24px\">\n",
              "    <path d=\"M0 0h24v24H0V0z\" fill=\"none\"/>\n",
              "    <path d=\"M18.56 5.44l.94 2.06.94-2.06 2.06-.94-2.06-.94-.94-2.06-.94 2.06-2.06.94zm-11 1L8.5 8.5l.94-2.06 2.06-.94-2.06-.94L8.5 2.5l-.94 2.06-2.06.94zm10 10l.94 2.06.94-2.06 2.06-.94-2.06-.94-.94-2.06-.94 2.06-2.06.94z\"/><path d=\"M17.41 7.96l-1.37-1.37c-.4-.4-.92-.59-1.43-.59-.52 0-1.04.2-1.43.59L10.3 9.45l-7.72 7.72c-.78.78-.78 2.05 0 2.83L4 21.41c.39.39.9.59 1.41.59.51 0 1.02-.2 1.41-.59l7.78-7.78 2.81-2.81c.8-.78.8-2.07 0-2.86zM5.41 20L4 18.59l7.72-7.72 1.47 1.35L5.41 20z\"/>\n",
              "  </svg>\n",
              "      </button>\n",
              "      \n",
              "  <style>\n",
              "    .colab-df-container {\n",
              "      display:flex;\n",
              "      flex-wrap:wrap;\n",
              "      gap: 12px;\n",
              "    }\n",
              "\n",
              "    .colab-df-convert {\n",
              "      background-color: #E8F0FE;\n",
              "      border: none;\n",
              "      border-radius: 50%;\n",
              "      cursor: pointer;\n",
              "      display: none;\n",
              "      fill: #1967D2;\n",
              "      height: 32px;\n",
              "      padding: 0 0 0 0;\n",
              "      width: 32px;\n",
              "    }\n",
              "\n",
              "    .colab-df-convert:hover {\n",
              "      background-color: #E2EBFA;\n",
              "      box-shadow: 0px 1px 2px rgba(60, 64, 67, 0.3), 0px 1px 3px 1px rgba(60, 64, 67, 0.15);\n",
              "      fill: #174EA6;\n",
              "    }\n",
              "\n",
              "    [theme=dark] .colab-df-convert {\n",
              "      background-color: #3B4455;\n",
              "      fill: #D2E3FC;\n",
              "    }\n",
              "\n",
              "    [theme=dark] .colab-df-convert:hover {\n",
              "      background-color: #434B5C;\n",
              "      box-shadow: 0px 1px 3px 1px rgba(0, 0, 0, 0.15);\n",
              "      filter: drop-shadow(0px 1px 2px rgba(0, 0, 0, 0.3));\n",
              "      fill: #FFFFFF;\n",
              "    }\n",
              "  </style>\n",
              "\n",
              "      <script>\n",
              "        const buttonEl =\n",
              "          document.querySelector('#df-97e025fb-79ac-40f1-a12d-f59d6644e3c0 button.colab-df-convert');\n",
              "        buttonEl.style.display =\n",
              "          google.colab.kernel.accessAllowed ? 'block' : 'none';\n",
              "\n",
              "        async function convertToInteractive(key) {\n",
              "          const element = document.querySelector('#df-97e025fb-79ac-40f1-a12d-f59d6644e3c0');\n",
              "          const dataTable =\n",
              "            await google.colab.kernel.invokeFunction('convertToInteractive',\n",
              "                                                     [key], {});\n",
              "          if (!dataTable) return;\n",
              "\n",
              "          const docLinkHtml = 'Like what you see? Visit the ' +\n",
              "            '<a target=\"_blank\" href=https://colab.research.google.com/notebooks/data_table.ipynb>data table notebook</a>'\n",
              "            + ' to learn more about interactive tables.';\n",
              "          element.innerHTML = '';\n",
              "          dataTable['output_type'] = 'display_data';\n",
              "          await google.colab.output.renderOutput(dataTable, element);\n",
              "          const docLink = document.createElement('div');\n",
              "          docLink.innerHTML = docLinkHtml;\n",
              "          element.appendChild(docLink);\n",
              "        }\n",
              "      </script>\n",
              "    </div>\n",
              "  </div>\n",
              "  "
            ],
            "text/plain": [
              "   age         workclass  fnlwgt  education  education-num  \\\n",
              "0   39         State-gov   77516  Bachelors             13   \n",
              "1   50  Self-emp-not-inc   83311  Bachelors             13   \n",
              "2   38           Private  215646    HS-grad              9   \n",
              "3   53           Private  234721       11th              7   \n",
              "4   28           Private  338409  Bachelors             13   \n",
              "\n",
              "       marital-status         occupation   relationship   race     sex  \\\n",
              "0       Never-married       Adm-clerical  Not-in-family  White    Male   \n",
              "1  Married-civ-spouse    Exec-managerial        Husband  White    Male   \n",
              "2            Divorced  Handlers-cleaners  Not-in-family  White    Male   \n",
              "3  Married-civ-spouse  Handlers-cleaners        Husband  Black    Male   \n",
              "4  Married-civ-spouse     Prof-specialty           Wife  Black  Female   \n",
              "\n",
              "   capital-gain  capital-loss  hours-per-week native-country salary  \n",
              "0          2174             0              40  United-States  <=50K  \n",
              "1             0             0              13  United-States  <=50K  \n",
              "2             0             0              40  United-States  <=50K  \n",
              "3             0             0              40  United-States  <=50K  \n",
              "4             0             0              40           Cuba  <=50K  "
            ]
          },
          "execution_count": 3,
          "metadata": {},
          "output_type": "execute_result"
        }
      ],
      "source": [
        "data = pd.read_csv('adult.data.csv')\n",
        "data.head()"
      ]
    },
    {
      "attachments": {},
      "cell_type": "markdown",
      "metadata": {
        "id": "5KhW6wY3z6Kb"
      },
      "source": [
        "**1. Сколько мужчин и женщин (признак *sex*) представлено в этом наборе данных?**"
      ]
    },
    {
      "cell_type": "code",
      "execution_count": null,
      "metadata": {
        "colab": {
          "base_uri": "https://localhost:8080/"
        },
        "id": "AhctKYcaz70G",
        "outputId": "dd0e6af5-1a50-4eb5-f8cb-fdb33caf9ad0"
      },
      "outputs": [
        {
          "name": "stdout",
          "output_type": "stream",
          "text": [
            "There are 21790 men and 10771 women.\n"
          ]
        }
      ],
      "source": [
        "(male, female) = data.sex.value_counts()\n",
        "print(f'There are {male} men and {female} women.')"
      ]
    },
    {
      "attachments": {},
      "cell_type": "markdown",
      "metadata": {
        "id": "S8YDztYBz9kc"
      },
      "source": [
        "**2. Каков средний возраст (признак *age*) женщин?**"
      ]
    },
    {
      "cell_type": "code",
      "execution_count": null,
      "metadata": {
        "colab": {
          "base_uri": "https://localhost:8080/"
        },
        "id": "sKOpaebT0At4",
        "outputId": "72c68ab2-9d04-40b8-bfad-cb4acac29177"
      },
      "outputs": [
        {
          "name": "stdout",
          "output_type": "stream",
          "text": [
            "Average age of females in database is 37 years old.\n"
          ]
        }
      ],
      "source": [
        "avg_female_age = int(round(data[data.sex == 'Female'].age.mean(), 0))\n",
        "print(f\"Average age of females in database is {avg_female_age} years old.\")"
      ]
    },
    {
      "attachments": {},
      "cell_type": "markdown",
      "metadata": {
        "id": "Q054uv0c0Ccd"
      },
      "source": [
        "**3. Какова доля граждан Германии (признак *native-country*)?**"
      ]
    },
    {
      "cell_type": "code",
      "execution_count": null,
      "metadata": {
        "colab": {
          "base_uri": "https://localhost:8080/"
        },
        "id": "qTxksS8W0EMR",
        "outputId": "212ff411-2997-444c-b75a-0669181163e5"
      },
      "outputs": [
        {
          "name": "stdout",
          "output_type": "stream",
          "text": [
            "It's 0.4% of Germany citizens in database.\n"
          ]
        }
      ],
      "source": [
        "percentage = round(len(data[data['native-country'] == 'Germany']) / len(data) * 100, 1)\n",
        "print(f\"It's {percentage}% of Germany citizens in database.\")"
      ]
    },
    {
      "attachments": {},
      "cell_type": "markdown",
      "metadata": {
        "id": "AwV-ntat0GpS"
      },
      "source": [
        "**4-5. Каковы средние значения и среднеквадратичные отклонения возраста тех, кто получает более 50K в год (признак *salary*) и тех, кто получает менее 50K в год?**"
      ]
    },
    {
      "cell_type": "code",
      "execution_count": null,
      "metadata": {
        "id": "R4WF1-iO0ILn"
      },
      "outputs": [],
      "source": [
        "lts = data[data.salary == '<=50K']\n",
        "a_s = lts.age.describe().round()\n"
      ]
    },
    {
      "cell_type": "code",
      "execution_count": null,
      "metadata": {
        "colab": {
          "base_uri": "https://localhost:8080/"
        },
        "id": "wqIk0gAQ0VeI",
        "outputId": "037f3f12-cfc1-4141-b8d6-5ae9df033d6f"
      },
      "outputs": [
        {
          "name": "stdout",
          "output_type": "stream",
          "text": [
            "37 is an average age for ones earning more than 50K.\n"
          ]
        }
      ],
      "source": [
        "print(f\"{int(a_s['mean'])} is an average age for ones earning more than 50K.\")"
      ]
    },
    {
      "cell_type": "code",
      "execution_count": null,
      "metadata": {
        "colab": {
          "base_uri": "https://localhost:8080/"
        },
        "id": "8TtSgmXB0Vk_",
        "outputId": "96622571-1669-47c2-d60f-bc3c64cb0a23"
      },
      "outputs": [
        {
          "name": "stdout",
          "output_type": "stream",
          "text": [
            "An age standard deviation for 50K earners is 14.\n"
          ]
        }
      ],
      "source": [
        "print(f\"An age standard deviation for 50K earners is {int(a_s['std'])}.\")"
      ]
    },
    {
      "attachments": {},
      "cell_type": "markdown",
      "metadata": {
        "id": "En4fWsZv0Y3K"
      },
      "source": [
        "**6. Правда ли, что люди, которые получают больше 50k, имеют как минимум высшее образование? (признак *education – Bachelors, Prof-school, Assoc-acdm, Assoc-voc, Masters* или *Doctorate*)**"
      ]
    },
    {
      "cell_type": "code",
      "execution_count": null,
      "metadata": {
        "colab": {
          "base_uri": "https://localhost:8080/"
        },
        "id": "ZULwIhY00Z7-",
        "outputId": "74904cc8-e680-4e84-aed5-5036ef937be9"
      },
      "outputs": [
        {
          "name": "stdout",
          "output_type": "stream",
          "text": [
            "It's not quite like that. It seems only 60% of people earn >50K are higher educated.\n"
          ]
        }
      ],
      "source": [
        "he = pd.Series([\n",
        "    'Bachelors',\n",
        "    'Prof-school',\n",
        "    'Assoc-acdm',\n",
        "    'Assoc-voc',\n",
        "    'Masters',\n",
        "    'Doctorate',\n",
        "])\n",
        "\n",
        "hse = pd.Series(data[data.salary == \">50K\"].education.unique())\n",
        "percent = int(len(hse[~hse.isin(he)]) / len(hse) * 100)\n",
        "\n",
        "print(f\"It's not quite like that. It seems only {percent}% of people earn >50K are higher educated.\")"
      ]
    },
    {
      "attachments": {},
      "cell_type": "markdown",
      "metadata": {
        "id": "ZR-6R0EH0cli"
      },
      "source": [
        "**7. Выведите статистику возраста для каждой расы (признак *race*) и каждого пола. Используйте *groupby* и *describe*. Найдите таким образом максимальный возраст мужчин расы *Amer-Indian-Eskimo*.**"
      ]
    },
    {
      "cell_type": "code",
      "execution_count": null,
      "metadata": {
        "id": "NusQG1nz0dCH"
      },
      "outputs": [],
      "source": [
        "race_age_stats = data.groupby(['race', 'sex'])['age'].describe()"
      ]
    },
    {
      "cell_type": "code",
      "execution_count": null,
      "metadata": {
        "colab": {
          "base_uri": "https://localhost:8080/",
          "height": 394
        },
        "id": "kdgQ5dAl0e1r",
        "outputId": "4c283bb8-73f4-47ca-bf1f-7d1a5bcbe689"
      },
      "outputs": [
        {
          "data": {
            "text/html": [
              "\n",
              "  <div id=\"df-139da7f1-5115-4fc1-bea0-c85ff759f02a\">\n",
              "    <div class=\"colab-df-container\">\n",
              "      <div>\n",
              "<style scoped>\n",
              "    .dataframe tbody tr th:only-of-type {\n",
              "        vertical-align: middle;\n",
              "    }\n",
              "\n",
              "    .dataframe tbody tr th {\n",
              "        vertical-align: top;\n",
              "    }\n",
              "\n",
              "    .dataframe thead th {\n",
              "        text-align: right;\n",
              "    }\n",
              "</style>\n",
              "<table border=\"1\" class=\"dataframe\">\n",
              "  <thead>\n",
              "    <tr style=\"text-align: right;\">\n",
              "      <th></th>\n",
              "      <th></th>\n",
              "      <th>count</th>\n",
              "      <th>mean</th>\n",
              "      <th>std</th>\n",
              "      <th>min</th>\n",
              "      <th>25%</th>\n",
              "      <th>50%</th>\n",
              "      <th>75%</th>\n",
              "      <th>max</th>\n",
              "    </tr>\n",
              "    <tr>\n",
              "      <th>race</th>\n",
              "      <th>sex</th>\n",
              "      <th></th>\n",
              "      <th></th>\n",
              "      <th></th>\n",
              "      <th></th>\n",
              "      <th></th>\n",
              "      <th></th>\n",
              "      <th></th>\n",
              "      <th></th>\n",
              "    </tr>\n",
              "  </thead>\n",
              "  <tbody>\n",
              "    <tr>\n",
              "      <th rowspan=\"2\" valign=\"top\">Amer-Indian-Eskimo</th>\n",
              "      <th>Female</th>\n",
              "      <td>119.0</td>\n",
              "      <td>37.117647</td>\n",
              "      <td>13.114991</td>\n",
              "      <td>17.0</td>\n",
              "      <td>27.0</td>\n",
              "      <td>36.0</td>\n",
              "      <td>46.00</td>\n",
              "      <td>80.0</td>\n",
              "    </tr>\n",
              "    <tr>\n",
              "      <th>Male</th>\n",
              "      <td>192.0</td>\n",
              "      <td>37.208333</td>\n",
              "      <td>12.049563</td>\n",
              "      <td>17.0</td>\n",
              "      <td>28.0</td>\n",
              "      <td>35.0</td>\n",
              "      <td>45.00</td>\n",
              "      <td>82.0</td>\n",
              "    </tr>\n",
              "    <tr>\n",
              "      <th rowspan=\"2\" valign=\"top\">Asian-Pac-Islander</th>\n",
              "      <th>Female</th>\n",
              "      <td>346.0</td>\n",
              "      <td>35.089595</td>\n",
              "      <td>12.300845</td>\n",
              "      <td>17.0</td>\n",
              "      <td>25.0</td>\n",
              "      <td>33.0</td>\n",
              "      <td>43.75</td>\n",
              "      <td>75.0</td>\n",
              "    </tr>\n",
              "    <tr>\n",
              "      <th>Male</th>\n",
              "      <td>693.0</td>\n",
              "      <td>39.073593</td>\n",
              "      <td>12.883944</td>\n",
              "      <td>18.0</td>\n",
              "      <td>29.0</td>\n",
              "      <td>37.0</td>\n",
              "      <td>46.00</td>\n",
              "      <td>90.0</td>\n",
              "    </tr>\n",
              "    <tr>\n",
              "      <th rowspan=\"2\" valign=\"top\">Black</th>\n",
              "      <th>Female</th>\n",
              "      <td>1555.0</td>\n",
              "      <td>37.854019</td>\n",
              "      <td>12.637197</td>\n",
              "      <td>17.0</td>\n",
              "      <td>28.0</td>\n",
              "      <td>37.0</td>\n",
              "      <td>46.00</td>\n",
              "      <td>90.0</td>\n",
              "    </tr>\n",
              "    <tr>\n",
              "      <th>Male</th>\n",
              "      <td>1569.0</td>\n",
              "      <td>37.682600</td>\n",
              "      <td>12.882612</td>\n",
              "      <td>17.0</td>\n",
              "      <td>27.0</td>\n",
              "      <td>36.0</td>\n",
              "      <td>46.00</td>\n",
              "      <td>90.0</td>\n",
              "    </tr>\n",
              "    <tr>\n",
              "      <th rowspan=\"2\" valign=\"top\">Other</th>\n",
              "      <th>Female</th>\n",
              "      <td>109.0</td>\n",
              "      <td>31.678899</td>\n",
              "      <td>11.631599</td>\n",
              "      <td>17.0</td>\n",
              "      <td>23.0</td>\n",
              "      <td>29.0</td>\n",
              "      <td>39.00</td>\n",
              "      <td>74.0</td>\n",
              "    </tr>\n",
              "    <tr>\n",
              "      <th>Male</th>\n",
              "      <td>162.0</td>\n",
              "      <td>34.654321</td>\n",
              "      <td>11.355531</td>\n",
              "      <td>17.0</td>\n",
              "      <td>26.0</td>\n",
              "      <td>32.0</td>\n",
              "      <td>42.00</td>\n",
              "      <td>77.0</td>\n",
              "    </tr>\n",
              "    <tr>\n",
              "      <th rowspan=\"2\" valign=\"top\">White</th>\n",
              "      <th>Female</th>\n",
              "      <td>8642.0</td>\n",
              "      <td>36.811618</td>\n",
              "      <td>14.329093</td>\n",
              "      <td>17.0</td>\n",
              "      <td>25.0</td>\n",
              "      <td>35.0</td>\n",
              "      <td>46.00</td>\n",
              "      <td>90.0</td>\n",
              "    </tr>\n",
              "    <tr>\n",
              "      <th>Male</th>\n",
              "      <td>19174.0</td>\n",
              "      <td>39.652498</td>\n",
              "      <td>13.436029</td>\n",
              "      <td>17.0</td>\n",
              "      <td>29.0</td>\n",
              "      <td>38.0</td>\n",
              "      <td>49.00</td>\n",
              "      <td>90.0</td>\n",
              "    </tr>\n",
              "  </tbody>\n",
              "</table>\n",
              "</div>\n",
              "      <button class=\"colab-df-convert\" onclick=\"convertToInteractive('df-139da7f1-5115-4fc1-bea0-c85ff759f02a')\"\n",
              "              title=\"Convert this dataframe to an interactive table.\"\n",
              "              style=\"display:none;\">\n",
              "        \n",
              "  <svg xmlns=\"http://www.w3.org/2000/svg\" height=\"24px\"viewBox=\"0 0 24 24\"\n",
              "       width=\"24px\">\n",
              "    <path d=\"M0 0h24v24H0V0z\" fill=\"none\"/>\n",
              "    <path d=\"M18.56 5.44l.94 2.06.94-2.06 2.06-.94-2.06-.94-.94-2.06-.94 2.06-2.06.94zm-11 1L8.5 8.5l.94-2.06 2.06-.94-2.06-.94L8.5 2.5l-.94 2.06-2.06.94zm10 10l.94 2.06.94-2.06 2.06-.94-2.06-.94-.94-2.06-.94 2.06-2.06.94z\"/><path d=\"M17.41 7.96l-1.37-1.37c-.4-.4-.92-.59-1.43-.59-.52 0-1.04.2-1.43.59L10.3 9.45l-7.72 7.72c-.78.78-.78 2.05 0 2.83L4 21.41c.39.39.9.59 1.41.59.51 0 1.02-.2 1.41-.59l7.78-7.78 2.81-2.81c.8-.78.8-2.07 0-2.86zM5.41 20L4 18.59l7.72-7.72 1.47 1.35L5.41 20z\"/>\n",
              "  </svg>\n",
              "      </button>\n",
              "      \n",
              "  <style>\n",
              "    .colab-df-container {\n",
              "      display:flex;\n",
              "      flex-wrap:wrap;\n",
              "      gap: 12px;\n",
              "    }\n",
              "\n",
              "    .colab-df-convert {\n",
              "      background-color: #E8F0FE;\n",
              "      border: none;\n",
              "      border-radius: 50%;\n",
              "      cursor: pointer;\n",
              "      display: none;\n",
              "      fill: #1967D2;\n",
              "      height: 32px;\n",
              "      padding: 0 0 0 0;\n",
              "      width: 32px;\n",
              "    }\n",
              "\n",
              "    .colab-df-convert:hover {\n",
              "      background-color: #E2EBFA;\n",
              "      box-shadow: 0px 1px 2px rgba(60, 64, 67, 0.3), 0px 1px 3px 1px rgba(60, 64, 67, 0.15);\n",
              "      fill: #174EA6;\n",
              "    }\n",
              "\n",
              "    [theme=dark] .colab-df-convert {\n",
              "      background-color: #3B4455;\n",
              "      fill: #D2E3FC;\n",
              "    }\n",
              "\n",
              "    [theme=dark] .colab-df-convert:hover {\n",
              "      background-color: #434B5C;\n",
              "      box-shadow: 0px 1px 3px 1px rgba(0, 0, 0, 0.15);\n",
              "      filter: drop-shadow(0px 1px 2px rgba(0, 0, 0, 0.3));\n",
              "      fill: #FFFFFF;\n",
              "    }\n",
              "  </style>\n",
              "\n",
              "      <script>\n",
              "        const buttonEl =\n",
              "          document.querySelector('#df-139da7f1-5115-4fc1-bea0-c85ff759f02a button.colab-df-convert');\n",
              "        buttonEl.style.display =\n",
              "          google.colab.kernel.accessAllowed ? 'block' : 'none';\n",
              "\n",
              "        async function convertToInteractive(key) {\n",
              "          const element = document.querySelector('#df-139da7f1-5115-4fc1-bea0-c85ff759f02a');\n",
              "          const dataTable =\n",
              "            await google.colab.kernel.invokeFunction('convertToInteractive',\n",
              "                                                     [key], {});\n",
              "          if (!dataTable) return;\n",
              "\n",
              "          const docLinkHtml = 'Like what you see? Visit the ' +\n",
              "            '<a target=\"_blank\" href=https://colab.research.google.com/notebooks/data_table.ipynb>data table notebook</a>'\n",
              "            + ' to learn more about interactive tables.';\n",
              "          element.innerHTML = '';\n",
              "          dataTable['output_type'] = 'display_data';\n",
              "          await google.colab.output.renderOutput(dataTable, element);\n",
              "          const docLink = document.createElement('div');\n",
              "          docLink.innerHTML = docLinkHtml;\n",
              "          element.appendChild(docLink);\n",
              "        }\n",
              "      </script>\n",
              "    </div>\n",
              "  </div>\n",
              "  "
            ],
            "text/plain": [
              "                             count       mean        std   min   25%   50%  \\\n",
              "race               sex                                                       \n",
              "Amer-Indian-Eskimo Female    119.0  37.117647  13.114991  17.0  27.0  36.0   \n",
              "                   Male      192.0  37.208333  12.049563  17.0  28.0  35.0   \n",
              "Asian-Pac-Islander Female    346.0  35.089595  12.300845  17.0  25.0  33.0   \n",
              "                   Male      693.0  39.073593  12.883944  18.0  29.0  37.0   \n",
              "Black              Female   1555.0  37.854019  12.637197  17.0  28.0  37.0   \n",
              "                   Male     1569.0  37.682600  12.882612  17.0  27.0  36.0   \n",
              "Other              Female    109.0  31.678899  11.631599  17.0  23.0  29.0   \n",
              "                   Male      162.0  34.654321  11.355531  17.0  26.0  32.0   \n",
              "White              Female   8642.0  36.811618  14.329093  17.0  25.0  35.0   \n",
              "                   Male    19174.0  39.652498  13.436029  17.0  29.0  38.0   \n",
              "\n",
              "                             75%   max  \n",
              "race               sex                  \n",
              "Amer-Indian-Eskimo Female  46.00  80.0  \n",
              "                   Male    45.00  82.0  \n",
              "Asian-Pac-Islander Female  43.75  75.0  \n",
              "                   Male    46.00  90.0  \n",
              "Black              Female  46.00  90.0  \n",
              "                   Male    46.00  90.0  \n",
              "Other              Female  39.00  74.0  \n",
              "                   Male    42.00  77.0  \n",
              "White              Female  46.00  90.0  \n",
              "                   Male    49.00  90.0  "
            ]
          },
          "execution_count": 15,
          "metadata": {},
          "output_type": "execute_result"
        }
      ],
      "source": [
        "race_age_stats"
      ]
    },
    {
      "cell_type": "code",
      "execution_count": null,
      "metadata": {
        "colab": {
          "base_uri": "https://localhost:8080/"
        },
        "id": "OTJWY29O0fxz",
        "outputId": "aff739c2-c801-4202-e2cd-ea7a61bb38fa"
      },
      "outputs": [
        {
          "name": "stdout",
          "output_type": "stream",
          "text": [
            "The eldest Amer Indian Eskimo is 82 years old.\n"
          ]
        }
      ],
      "source": [
        "eldest_amer_indian = int(race_age_stats.loc[('Amer-Indian-Eskimo', 'Male'), 'max'])\n",
        "print(f'The eldest Amer Indian Eskimo is {eldest_amer_indian} years old.')"
      ]
    },
    {
      "attachments": {},
      "cell_type": "markdown",
      "metadata": {
        "id": "w181CGX60h0p"
      },
      "source": [
        "**8. Среди кого больше доля зарабатывающих много (>50K): среди женатых или холостых мужчин (признак *marital-status*)? Женатыми считаем тех, у кого *marital-status* начинается с *Married* (Married-civ-spouse, Married-spouse-absent или Married-AF-spouse), остальных считаем холостыми.**"
      ]
    },
    {
      "cell_type": "code",
      "execution_count": null,
      "metadata": {
        "colab": {
          "base_uri": "https://localhost:8080/"
        },
        "id": "gv7Qdwvk0i7p",
        "outputId": "24c9956b-a186-40c0-ac54-a1d4e6ab4feb"
      },
      "outputs": [
        {
          "name": "stdout",
          "output_type": "stream",
          "text": [
            "Married men are richer than average.\n"
          ]
        }
      ],
      "source": [
        "data['married'] = data['marital-status'].str.startswith('Married')\n",
        "grouped = data[data.sex == 'Male'].groupby('married')['salary'].value_counts(normalize=True)\n",
        "\n",
        "mrt_avg = grouped[:, '>50K'].idxmax()\n",
        "msg = 'are' if mrt_avg else \"aren't\"\n",
        "\n",
        "print(f'Married men {msg} richer than average.')"
      ]
    },
    {
      "attachments": {},
      "cell_type": "markdown",
      "metadata": {
        "id": "xQabSLKv0lM9"
      },
      "source": [
        "**9. Какое максимальное число часов человек работает в неделю (признак *hours-per-week*)? Сколько людей работают такое количество часов и каков среди них процент зарабатывающих много?**"
      ]
    },
    {
      "cell_type": "code",
      "execution_count": null,
      "metadata": {
        "colab": {
          "base_uri": "https://localhost:8080/"
        },
        "id": "02DpJo1U0mVP",
        "outputId": "bbe9f28d-7f74-47b6-b7b3-0a8d82a051d3"
      },
      "outputs": [
        {
          "name": "stdout",
          "output_type": "stream",
          "text": [
            "The largest amount of working hours per week is 99 hours.\n"
          ]
        }
      ],
      "source": [
        "max_hpw = data['hours-per-week'].max()\n",
        "print(f'The largest amount of working hours per week is {max_hpw} hours.')"
      ]
    },
    {
      "cell_type": "code",
      "execution_count": null,
      "metadata": {
        "colab": {
          "base_uri": "https://localhost:8080/"
        },
        "id": "-RklbVRF0ng8",
        "outputId": "67b38fba-b576-4ebc-9843-38ec626af921"
      },
      "outputs": [
        {
          "name": "stdout",
          "output_type": "stream",
          "text": [
            "Amount of workers with the largest amount of working hours per week is 85.\n"
          ]
        }
      ],
      "source": [
        "max_hpw_emp = data[data['hours-per-week'] == max_hpw]\n",
        "print(f'Amount of workers with the largest amount of working hours per week is {len(max_hpw_emp)}.')"
      ]
    },
    {
      "cell_type": "code",
      "execution_count": null,
      "metadata": {
        "colab": {
          "base_uri": "https://localhost:8080/"
        },
        "id": "5XpdOGtw0pxl",
        "outputId": "24e523a4-d3aa-4ea1-a1ca-4f669c6fde76"
      },
      "outputs": [
        {
          "name": "stdout",
          "output_type": "stream",
          "text": [
            "There are 29% >50K earners among'em.\n"
          ]
        }
      ],
      "source": [
        "percent = int(round(max_hpw_emp.salary.value_counts(normalize=True)['>50K'] * 100, 0))\n",
        "print(f'There are {percent}% >50K earners among\\'em.')"
      ]
    },
    {
      "attachments": {},
      "cell_type": "markdown",
      "metadata": {
        "id": "WZIn7xNx0sq0"
      },
      "source": [
        "**10. Посчитайте среднее время работы (*hours-per-week*) зарабатывающих мало и много (*salary*) для каждой страны (*native-country*).**"
      ]
    },
    {
      "cell_type": "code",
      "execution_count": null,
      "metadata": {
        "colab": {
          "base_uri": "https://localhost:8080/"
        },
        "id": "96TG8l4-0tmE",
        "outputId": "a5dcc16d-2038-409b-a1da-65cc8c9b7b4f"
      },
      "outputs": [
        {
          "data": {
            "text/plain": [
              "native-country  salary\n",
              "?               <=50K     40\n",
              "                >50K      46\n",
              "Cambodia        <=50K     41\n",
              "                >50K      40\n",
              "Canada          <=50K     38\n",
              "                          ..\n",
              "United-States   >50K      46\n",
              "Vietnam         <=50K     37\n",
              "                >50K      39\n",
              "Yugoslavia      <=50K     42\n",
              "                >50K      50\n",
              "Name: hours-per-week, Length: 82, dtype: Int64"
            ]
          },
          "execution_count": 26,
          "metadata": {},
          "output_type": "execute_result"
        }
      ],
      "source": [
        "data.groupby(['native-country', 'salary'])['hours-per-week'].mean().round().convert_dtypes(int)"
      ]
    },
    {
      "attachments": {},
      "cell_type": "markdown",
      "metadata": {
        "id": "9I63h3010v5N"
      },
      "source": [
        "**11. Додаткове завдання. Знайти відсоткову кількість тих діяльностей, які заробляють більше 50К і зіставити це з кількістю годин за тиждень**"
      ]
    },
    {
      "cell_type": "code",
      "execution_count": 24,
      "metadata": {
        "colab": {
          "base_uri": "https://localhost:8080/",
          "height": 269
        },
        "id": "HG0IlFvq0wvv",
        "outputId": "8fc72df5-3bdb-4837-e6f4-ca20468d6abf"
      },
      "outputs": [
        {
          "data": {
            "text/html": [
              "\n",
              "  <div id=\"df-dec54426-4157-42f9-a985-e7177092745b\">\n",
              "    <div class=\"colab-df-container\">\n",
              "      <div>\n",
              "<style scoped>\n",
              "    .dataframe tbody tr th:only-of-type {\n",
              "        vertical-align: middle;\n",
              "    }\n",
              "\n",
              "    .dataframe tbody tr th {\n",
              "        vertical-align: top;\n",
              "    }\n",
              "\n",
              "    .dataframe thead th {\n",
              "        text-align: right;\n",
              "    }\n",
              "</style>\n",
              "<table border=\"1\" class=\"dataframe\">\n",
              "  <thead>\n",
              "    <tr style=\"text-align: right;\">\n",
              "      <th></th>\n",
              "      <th></th>\n",
              "      <th>hours per week</th>\n",
              "      <th>workclass</th>\n",
              "    </tr>\n",
              "    <tr>\n",
              "      <th>workclass</th>\n",
              "      <th>workclass</th>\n",
              "      <th></th>\n",
              "      <th></th>\n",
              "    </tr>\n",
              "  </thead>\n",
              "  <tbody>\n",
              "    <tr>\n",
              "      <th>Federal-gov</th>\n",
              "      <th>Federal-gov</th>\n",
              "      <td>43 hours</td>\n",
              "      <td>38.65%</td>\n",
              "    </tr>\n",
              "    <tr>\n",
              "      <th>Local-gov</th>\n",
              "      <th>Local-gov</th>\n",
              "      <td>44 hours</td>\n",
              "      <td>29.48%</td>\n",
              "    </tr>\n",
              "    <tr>\n",
              "      <th>Private</th>\n",
              "      <th>Private</th>\n",
              "      <td>46 hours</td>\n",
              "      <td>21.87%</td>\n",
              "    </tr>\n",
              "    <tr>\n",
              "      <th>Self-emp-inc</th>\n",
              "      <th>Self-emp-inc</th>\n",
              "      <td>50 hours</td>\n",
              "      <td>55.73%</td>\n",
              "    </tr>\n",
              "    <tr>\n",
              "      <th>Self-emp-not-inc</th>\n",
              "      <th>Self-emp-not-inc</th>\n",
              "      <td>47 hours</td>\n",
              "      <td>28.49%</td>\n",
              "    </tr>\n",
              "    <tr>\n",
              "      <th>State-gov</th>\n",
              "      <th>State-gov</th>\n",
              "      <td>44 hours</td>\n",
              "      <td>27.2%</td>\n",
              "    </tr>\n",
              "  </tbody>\n",
              "</table>\n",
              "</div>\n",
              "      <button class=\"colab-df-convert\" onclick=\"convertToInteractive('df-dec54426-4157-42f9-a985-e7177092745b')\"\n",
              "              title=\"Convert this dataframe to an interactive table.\"\n",
              "              style=\"display:none;\">\n",
              "        \n",
              "  <svg xmlns=\"http://www.w3.org/2000/svg\" height=\"24px\"viewBox=\"0 0 24 24\"\n",
              "       width=\"24px\">\n",
              "    <path d=\"M0 0h24v24H0V0z\" fill=\"none\"/>\n",
              "    <path d=\"M18.56 5.44l.94 2.06.94-2.06 2.06-.94-2.06-.94-.94-2.06-.94 2.06-2.06.94zm-11 1L8.5 8.5l.94-2.06 2.06-.94-2.06-.94L8.5 2.5l-.94 2.06-2.06.94zm10 10l.94 2.06.94-2.06 2.06-.94-2.06-.94-.94-2.06-.94 2.06-2.06.94z\"/><path d=\"M17.41 7.96l-1.37-1.37c-.4-.4-.92-.59-1.43-.59-.52 0-1.04.2-1.43.59L10.3 9.45l-7.72 7.72c-.78.78-.78 2.05 0 2.83L4 21.41c.39.39.9.59 1.41.59.51 0 1.02-.2 1.41-.59l7.78-7.78 2.81-2.81c.8-.78.8-2.07 0-2.86zM5.41 20L4 18.59l7.72-7.72 1.47 1.35L5.41 20z\"/>\n",
              "  </svg>\n",
              "      </button>\n",
              "      \n",
              "  <style>\n",
              "    .colab-df-container {\n",
              "      display:flex;\n",
              "      flex-wrap:wrap;\n",
              "      gap: 12px;\n",
              "    }\n",
              "\n",
              "    .colab-df-convert {\n",
              "      background-color: #E8F0FE;\n",
              "      border: none;\n",
              "      border-radius: 50%;\n",
              "      cursor: pointer;\n",
              "      display: none;\n",
              "      fill: #1967D2;\n",
              "      height: 32px;\n",
              "      padding: 0 0 0 0;\n",
              "      width: 32px;\n",
              "    }\n",
              "\n",
              "    .colab-df-convert:hover {\n",
              "      background-color: #E2EBFA;\n",
              "      box-shadow: 0px 1px 2px rgba(60, 64, 67, 0.3), 0px 1px 3px 1px rgba(60, 64, 67, 0.15);\n",
              "      fill: #174EA6;\n",
              "    }\n",
              "\n",
              "    [theme=dark] .colab-df-convert {\n",
              "      background-color: #3B4455;\n",
              "      fill: #D2E3FC;\n",
              "    }\n",
              "\n",
              "    [theme=dark] .colab-df-convert:hover {\n",
              "      background-color: #434B5C;\n",
              "      box-shadow: 0px 1px 3px 1px rgba(0, 0, 0, 0.15);\n",
              "      filter: drop-shadow(0px 1px 2px rgba(0, 0, 0, 0.3));\n",
              "      fill: #FFFFFF;\n",
              "    }\n",
              "  </style>\n",
              "\n",
              "      <script>\n",
              "        const buttonEl =\n",
              "          document.querySelector('#df-dec54426-4157-42f9-a985-e7177092745b button.colab-df-convert');\n",
              "        buttonEl.style.display =\n",
              "          google.colab.kernel.accessAllowed ? 'block' : 'none';\n",
              "\n",
              "        async function convertToInteractive(key) {\n",
              "          const element = document.querySelector('#df-dec54426-4157-42f9-a985-e7177092745b');\n",
              "          const dataTable =\n",
              "            await google.colab.kernel.invokeFunction('convertToInteractive',\n",
              "                                                     [key], {});\n",
              "          if (!dataTable) return;\n",
              "\n",
              "          const docLinkHtml = 'Like what you see? Visit the ' +\n",
              "            '<a target=\"_blank\" href=https://colab.research.google.com/notebooks/data_table.ipynb>data table notebook</a>'\n",
              "            + ' to learn more about interactive tables.';\n",
              "          element.innerHTML = '';\n",
              "          dataTable['output_type'] = 'display_data';\n",
              "          await google.colab.output.renderOutput(dataTable, element);\n",
              "          const docLink = document.createElement('div');\n",
              "          docLink.innerHTML = docLinkHtml;\n",
              "          element.appendChild(docLink);\n",
              "        }\n",
              "      </script>\n",
              "    </div>\n",
              "  </div>\n",
              "  "
            ],
            "text/plain": [
              "                                  hours per week workclass\n",
              "workclass        workclass                                \n",
              "Federal-gov      Federal-gov            43 hours    38.65%\n",
              "Local-gov        Local-gov              44 hours    29.48%\n",
              "Private          Private                46 hours    21.87%\n",
              "Self-emp-inc     Self-emp-inc           50 hours    55.73%\n",
              "Self-emp-not-inc Self-emp-not-inc       47 hours    28.49%\n",
              "State-gov        State-gov              44 hours     27.2%"
            ]
          },
          "execution_count": 24,
          "metadata": {},
          "output_type": "execute_result"
        }
      ],
      "source": [
        "exc = data.where(data.salary == '>50K').workclass.unique()[1:]\n",
        "rich = data[data.salary == '>50K'].groupby('workclass').workclass.value_counts()\n",
        "total = data.groupby('workclass').workclass.value_counts()[exc]\n",
        "percent_rich = round(rich / total * 100, 2)\n",
        "percent_rich_str = percent_rich.apply(lambda value: f'{value}%')\n",
        "hours_week = data[data.salary == '>50K'].groupby('workclass')['hours-per-week'].mean().round().convert_dtypes(int)\n",
        "hours_week_str = hours_week.apply(lambda value: f'{value} hours')\n",
        "\n",
        "result = pd.DataFrame(hours_week).join(pd.DataFrame(percent_rich)).drop('?')\n",
        "\n",
        "result_str = pd.DataFrame(hours_week_str).join(pd.DataFrame(percent_rich_str)).drop('?')\n",
        "result_str = result_str.rename(columns={'hours-per-week': 'hours per week', 'count': 'percent of rich'})\n",
        "result_str\n",
        "# У vscode такої проблеми не має і повертається лише одна колонка з ключами"
      ]
    },
    {
      "cell_type": "code",
      "execution_count": 18,
      "metadata": {
        "colab": {
          "base_uri": "https://localhost:8080/"
        },
        "id": "i2ku72wN9Ud2",
        "outputId": "320662c0-b53f-4902-c80c-a3523b886606"
      },
      "outputs": [
        {
          "data": {
            "text/plain": [
              "workclass         workclass       \n",
              "Federal-gov       Federal-gov         0.90\n",
              "Local-gov         Local-gov           0.67\n",
              "Private           Private             0.48\n",
              "Self-emp-inc      Self-emp-inc        1.11\n",
              "Self-emp-not-inc  Self-emp-not-inc    0.61\n",
              "State-gov         State-gov           0.62\n",
              "dtype: float64"
            ]
          },
          "execution_count": 18,
          "metadata": {},
          "output_type": "execute_result"
        }
      ],
      "source": [
        "# Percent of well paid in relation to the number of hours worked\n",
        "percent_per_hour = result.apply(lambda element: round(element[\"workclass\"] / element[\"hours-per-week\"], 2), axis=1)\n",
        "percent_per_hour"
      ]
    },
    {
      "cell_type": "code",
      "execution_count": 23,
      "metadata": {
        "colab": {
          "base_uri": "https://localhost:8080/"
        },
        "id": "ILO4G7u593Fc",
        "outputId": "9b50ed8d-c87c-4b8b-e4dc-3c8481549707"
      },
      "outputs": [
        {
          "name": "stdout",
          "output_type": "stream",
          "text": [
            "Best paid occupation seems to be \"Self emp inc\" with 1.11% per hour.\n"
          ]
        }
      ],
      "source": [
        "# the largest number of percentages in relation to the number of working hours\n",
        "min_value = percent_per_hour.max()\n",
        "min_key = percent_per_hour[percent_per_hour == min_value].keys()[0][0] # У vscode такої проблеми не має і повертається лише одна колонка з ключами\n",
        "print(f\"Best paid occupation seems to be \\\"{min_key.replace('-', ' ')}\\\" with {min_value}% per hour.\")"
      ]
    },
    {
      "attachments": {},
      "cell_type": "markdown",
      "metadata": {
        "id": "xBa8qg_E-XQ6"
      },
      "source": [
        "**12. Додаткове завдання 2. Знайти кореляцію між вищою освітою та походженням.**"
      ]
    },
    {
      "cell_type": "code",
      "execution_count": 51,
      "metadata": {
        "colab": {
          "base_uri": "https://localhost:8080/",
          "height": 1000
        },
        "id": "FBQwjPaM-ZGx",
        "outputId": "2ae905c2-17d0-40a0-e44e-40ebcbf2513e"
      },
      "outputs": [
        {
          "data": {
            "text/html": [
              "\n",
              "  <div id=\"df-a254aa7e-50c1-4d3a-9b3c-71f5f950f6ea\">\n",
              "    <div class=\"colab-df-container\">\n",
              "      <div>\n",
              "<style scoped>\n",
              "    .dataframe tbody tr th:only-of-type {\n",
              "        vertical-align: middle;\n",
              "    }\n",
              "\n",
              "    .dataframe tbody tr th {\n",
              "        vertical-align: top;\n",
              "    }\n",
              "\n",
              "    .dataframe thead th {\n",
              "        text-align: right;\n",
              "    }\n",
              "</style>\n",
              "<table border=\"1\" class=\"dataframe\">\n",
              "  <thead>\n",
              "    <tr style=\"text-align: right;\">\n",
              "      <th></th>\n",
              "      <th></th>\n",
              "      <th>percent of educated</th>\n",
              "    </tr>\n",
              "    <tr>\n",
              "      <th>native-country</th>\n",
              "      <th>native-country</th>\n",
              "      <th></th>\n",
              "    </tr>\n",
              "  </thead>\n",
              "  <tbody>\n",
              "    <tr>\n",
              "      <th>Cambodia</th>\n",
              "      <th>Cambodia</th>\n",
              "      <td>15.79</td>\n",
              "    </tr>\n",
              "    <tr>\n",
              "      <th>Canada</th>\n",
              "      <th>Canada</th>\n",
              "      <td>41.32</td>\n",
              "    </tr>\n",
              "    <tr>\n",
              "      <th>China</th>\n",
              "      <th>China</th>\n",
              "      <td>56.00</td>\n",
              "    </tr>\n",
              "    <tr>\n",
              "      <th>Columbia</th>\n",
              "      <th>Columbia</th>\n",
              "      <td>28.81</td>\n",
              "    </tr>\n",
              "    <tr>\n",
              "      <th>Cuba</th>\n",
              "      <th>Cuba</th>\n",
              "      <td>33.68</td>\n",
              "    </tr>\n",
              "    <tr>\n",
              "      <th>Dominican-Republic</th>\n",
              "      <th>Dominican-Republic</th>\n",
              "      <td>8.57</td>\n",
              "    </tr>\n",
              "    <tr>\n",
              "      <th>Ecuador</th>\n",
              "      <th>Ecuador</th>\n",
              "      <td>21.43</td>\n",
              "    </tr>\n",
              "    <tr>\n",
              "      <th>El-Salvador</th>\n",
              "      <th>El-Salvador</th>\n",
              "      <td>12.26</td>\n",
              "    </tr>\n",
              "    <tr>\n",
              "      <th>England</th>\n",
              "      <th>England</th>\n",
              "      <td>50.00</td>\n",
              "    </tr>\n",
              "    <tr>\n",
              "      <th>France</th>\n",
              "      <th>France</th>\n",
              "      <td>68.97</td>\n",
              "    </tr>\n",
              "    <tr>\n",
              "      <th>Germany</th>\n",
              "      <th>Germany</th>\n",
              "      <td>46.72</td>\n",
              "    </tr>\n",
              "    <tr>\n",
              "      <th>Greece</th>\n",
              "      <th>Greece</th>\n",
              "      <td>34.48</td>\n",
              "    </tr>\n",
              "    <tr>\n",
              "      <th>Guatemala</th>\n",
              "      <th>Guatemala</th>\n",
              "      <td>3.12</td>\n",
              "    </tr>\n",
              "    <tr>\n",
              "      <th>Haiti</th>\n",
              "      <th>Haiti</th>\n",
              "      <td>20.45</td>\n",
              "    </tr>\n",
              "    <tr>\n",
              "      <th>Honduras</th>\n",
              "      <th>Honduras</th>\n",
              "      <td>15.38</td>\n",
              "    </tr>\n",
              "    <tr>\n",
              "      <th>Hong</th>\n",
              "      <th>Hong</th>\n",
              "      <td>55.00</td>\n",
              "    </tr>\n",
              "    <tr>\n",
              "      <th>Hungary</th>\n",
              "      <th>Hungary</th>\n",
              "      <td>46.15</td>\n",
              "    </tr>\n",
              "    <tr>\n",
              "      <th>India</th>\n",
              "      <th>India</th>\n",
              "      <td>74.00</td>\n",
              "    </tr>\n",
              "    <tr>\n",
              "      <th>Iran</th>\n",
              "      <th>Iran</th>\n",
              "      <td>69.77</td>\n",
              "    </tr>\n",
              "    <tr>\n",
              "      <th>Ireland</th>\n",
              "      <th>Ireland</th>\n",
              "      <td>33.33</td>\n",
              "    </tr>\n",
              "    <tr>\n",
              "      <th>Italy</th>\n",
              "      <th>Italy</th>\n",
              "      <td>31.51</td>\n",
              "    </tr>\n",
              "    <tr>\n",
              "      <th>Jamaica</th>\n",
              "      <th>Jamaica</th>\n",
              "      <td>25.93</td>\n",
              "    </tr>\n",
              "    <tr>\n",
              "      <th>Japan</th>\n",
              "      <th>Japan</th>\n",
              "      <td>53.23</td>\n",
              "    </tr>\n",
              "    <tr>\n",
              "      <th>Laos</th>\n",
              "      <th>Laos</th>\n",
              "      <td>22.22</td>\n",
              "    </tr>\n",
              "    <tr>\n",
              "      <th>Mexico</th>\n",
              "      <th>Mexico</th>\n",
              "      <td>7.62</td>\n",
              "    </tr>\n",
              "    <tr>\n",
              "      <th>Nicaragua</th>\n",
              "      <th>Nicaragua</th>\n",
              "      <td>14.71</td>\n",
              "    </tr>\n",
              "    <tr>\n",
              "      <th>Outlying-US(Guam-USVI-etc)</th>\n",
              "      <th>Outlying-US(Guam-USVI-etc)</th>\n",
              "      <td>28.57</td>\n",
              "    </tr>\n",
              "    <tr>\n",
              "      <th>Peru</th>\n",
              "      <th>Peru</th>\n",
              "      <td>19.35</td>\n",
              "    </tr>\n",
              "    <tr>\n",
              "      <th>Philippines</th>\n",
              "      <th>Philippines</th>\n",
              "      <td>52.53</td>\n",
              "    </tr>\n",
              "    <tr>\n",
              "      <th>Poland</th>\n",
              "      <th>Poland</th>\n",
              "      <td>35.00</td>\n",
              "    </tr>\n",
              "    <tr>\n",
              "      <th>Portugal</th>\n",
              "      <th>Portugal</th>\n",
              "      <td>16.22</td>\n",
              "    </tr>\n",
              "    <tr>\n",
              "      <th>Puerto-Rico</th>\n",
              "      <th>Puerto-Rico</th>\n",
              "      <td>14.91</td>\n",
              "    </tr>\n",
              "    <tr>\n",
              "      <th>Scotland</th>\n",
              "      <th>Scotland</th>\n",
              "      <td>25.00</td>\n",
              "    </tr>\n",
              "    <tr>\n",
              "      <th>South</th>\n",
              "      <th>South</th>\n",
              "      <td>43.75</td>\n",
              "    </tr>\n",
              "    <tr>\n",
              "      <th>Taiwan</th>\n",
              "      <th>Taiwan</th>\n",
              "      <td>84.31</td>\n",
              "    </tr>\n",
              "    <tr>\n",
              "      <th>Thailand</th>\n",
              "      <th>Thailand</th>\n",
              "      <td>44.44</td>\n",
              "    </tr>\n",
              "    <tr>\n",
              "      <th>Trinadad&amp;Tobago</th>\n",
              "      <th>Trinadad&amp;Tobago</th>\n",
              "      <td>10.53</td>\n",
              "    </tr>\n",
              "    <tr>\n",
              "      <th>United-States</th>\n",
              "      <th>United-States</th>\n",
              "      <td>32.20</td>\n",
              "    </tr>\n",
              "    <tr>\n",
              "      <th>Vietnam</th>\n",
              "      <th>Vietnam</th>\n",
              "      <td>28.36</td>\n",
              "    </tr>\n",
              "    <tr>\n",
              "      <th>Yugoslavia</th>\n",
              "      <th>Yugoslavia</th>\n",
              "      <td>43.75</td>\n",
              "    </tr>\n",
              "  </tbody>\n",
              "</table>\n",
              "</div>\n",
              "      <button class=\"colab-df-convert\" onclick=\"convertToInteractive('df-a254aa7e-50c1-4d3a-9b3c-71f5f950f6ea')\"\n",
              "              title=\"Convert this dataframe to an interactive table.\"\n",
              "              style=\"display:none;\">\n",
              "        \n",
              "  <svg xmlns=\"http://www.w3.org/2000/svg\" height=\"24px\"viewBox=\"0 0 24 24\"\n",
              "       width=\"24px\">\n",
              "    <path d=\"M0 0h24v24H0V0z\" fill=\"none\"/>\n",
              "    <path d=\"M18.56 5.44l.94 2.06.94-2.06 2.06-.94-2.06-.94-.94-2.06-.94 2.06-2.06.94zm-11 1L8.5 8.5l.94-2.06 2.06-.94-2.06-.94L8.5 2.5l-.94 2.06-2.06.94zm10 10l.94 2.06.94-2.06 2.06-.94-2.06-.94-.94-2.06-.94 2.06-2.06.94z\"/><path d=\"M17.41 7.96l-1.37-1.37c-.4-.4-.92-.59-1.43-.59-.52 0-1.04.2-1.43.59L10.3 9.45l-7.72 7.72c-.78.78-.78 2.05 0 2.83L4 21.41c.39.39.9.59 1.41.59.51 0 1.02-.2 1.41-.59l7.78-7.78 2.81-2.81c.8-.78.8-2.07 0-2.86zM5.41 20L4 18.59l7.72-7.72 1.47 1.35L5.41 20z\"/>\n",
              "  </svg>\n",
              "      </button>\n",
              "      \n",
              "  <style>\n",
              "    .colab-df-container {\n",
              "      display:flex;\n",
              "      flex-wrap:wrap;\n",
              "      gap: 12px;\n",
              "    }\n",
              "\n",
              "    .colab-df-convert {\n",
              "      background-color: #E8F0FE;\n",
              "      border: none;\n",
              "      border-radius: 50%;\n",
              "      cursor: pointer;\n",
              "      display: none;\n",
              "      fill: #1967D2;\n",
              "      height: 32px;\n",
              "      padding: 0 0 0 0;\n",
              "      width: 32px;\n",
              "    }\n",
              "\n",
              "    .colab-df-convert:hover {\n",
              "      background-color: #E2EBFA;\n",
              "      box-shadow: 0px 1px 2px rgba(60, 64, 67, 0.3), 0px 1px 3px 1px rgba(60, 64, 67, 0.15);\n",
              "      fill: #174EA6;\n",
              "    }\n",
              "\n",
              "    [theme=dark] .colab-df-convert {\n",
              "      background-color: #3B4455;\n",
              "      fill: #D2E3FC;\n",
              "    }\n",
              "\n",
              "    [theme=dark] .colab-df-convert:hover {\n",
              "      background-color: #434B5C;\n",
              "      box-shadow: 0px 1px 3px 1px rgba(0, 0, 0, 0.15);\n",
              "      filter: drop-shadow(0px 1px 2px rgba(0, 0, 0, 0.3));\n",
              "      fill: #FFFFFF;\n",
              "    }\n",
              "  </style>\n",
              "\n",
              "      <script>\n",
              "        const buttonEl =\n",
              "          document.querySelector('#df-a254aa7e-50c1-4d3a-9b3c-71f5f950f6ea button.colab-df-convert');\n",
              "        buttonEl.style.display =\n",
              "          google.colab.kernel.accessAllowed ? 'block' : 'none';\n",
              "\n",
              "        async function convertToInteractive(key) {\n",
              "          const element = document.querySelector('#df-a254aa7e-50c1-4d3a-9b3c-71f5f950f6ea');\n",
              "          const dataTable =\n",
              "            await google.colab.kernel.invokeFunction('convertToInteractive',\n",
              "                                                     [key], {});\n",
              "          if (!dataTable) return;\n",
              "\n",
              "          const docLinkHtml = 'Like what you see? Visit the ' +\n",
              "            '<a target=\"_blank\" href=https://colab.research.google.com/notebooks/data_table.ipynb>data table notebook</a>'\n",
              "            + ' to learn more about interactive tables.';\n",
              "          element.innerHTML = '';\n",
              "          dataTable['output_type'] = 'display_data';\n",
              "          await google.colab.output.renderOutput(dataTable, element);\n",
              "          const docLink = document.createElement('div');\n",
              "          docLink.innerHTML = docLinkHtml;\n",
              "          element.appendChild(docLink);\n",
              "        }\n",
              "      </script>\n",
              "    </div>\n",
              "  </div>\n",
              "  "
            ],
            "text/plain": [
              "                                                       percent of educated\n",
              "native-country             native-country                                 \n",
              "Cambodia                   Cambodia                                  15.79\n",
              "Canada                     Canada                                    41.32\n",
              "China                      China                                     56.00\n",
              "Columbia                   Columbia                                  28.81\n",
              "Cuba                       Cuba                                      33.68\n",
              "Dominican-Republic         Dominican-Republic                         8.57\n",
              "Ecuador                    Ecuador                                   21.43\n",
              "El-Salvador                El-Salvador                               12.26\n",
              "England                    England                                   50.00\n",
              "France                     France                                    68.97\n",
              "Germany                    Germany                                   46.72\n",
              "Greece                     Greece                                    34.48\n",
              "Guatemala                  Guatemala                                  3.12\n",
              "Haiti                      Haiti                                     20.45\n",
              "Honduras                   Honduras                                  15.38\n",
              "Hong                       Hong                                      55.00\n",
              "Hungary                    Hungary                                   46.15\n",
              "India                      India                                     74.00\n",
              "Iran                       Iran                                      69.77\n",
              "Ireland                    Ireland                                   33.33\n",
              "Italy                      Italy                                     31.51\n",
              "Jamaica                    Jamaica                                   25.93\n",
              "Japan                      Japan                                     53.23\n",
              "Laos                       Laos                                      22.22\n",
              "Mexico                     Mexico                                     7.62\n",
              "Nicaragua                  Nicaragua                                 14.71\n",
              "Outlying-US(Guam-USVI-etc) Outlying-US(Guam-USVI-etc)                28.57\n",
              "Peru                       Peru                                      19.35\n",
              "Philippines                Philippines                               52.53\n",
              "Poland                     Poland                                    35.00\n",
              "Portugal                   Portugal                                  16.22\n",
              "Puerto-Rico                Puerto-Rico                               14.91\n",
              "Scotland                   Scotland                                  25.00\n",
              "South                      South                                     43.75\n",
              "Taiwan                     Taiwan                                    84.31\n",
              "Thailand                   Thailand                                  44.44\n",
              "Trinadad&Tobago            Trinadad&Tobago                           10.53\n",
              "United-States              United-States                             32.20\n",
              "Vietnam                    Vietnam                                   28.36\n",
              "Yugoslavia                 Yugoslavia                                43.75"
            ]
          },
          "execution_count": 51,
          "metadata": {},
          "output_type": "execute_result"
        }
      ],
      "source": [
        "# correlation between place of residence and the percentage of residents with higher education\n",
        "\n",
        "he = pd.Series([\n",
        "    'Bachelors',\n",
        "    'Prof-school',\n",
        "    'Assoc-acdm',\n",
        "    'Assoc-voc',\n",
        "    'Masters',\n",
        "    'Doctorate',\n",
        "])\n",
        "\n",
        "total = data.groupby('native-country')['native-country'].value_counts()\n",
        "educated = data[data.education.isin(he)].groupby('native-country')['native-country'].value_counts()\n",
        "\n",
        "percent_educated = round(educated / total * 100, 2)\n",
        "percent_educated = percent_educated[percent_educated.notna()].drop('?')\n",
        "\n",
        "res = pd.DataFrame(percent_educated)\n",
        "res.rename(columns={'native-country': 'percent of educated'})\n",
        "# У vscode такої проблеми не має і повертається лише одна колонка з ключами"
      ]
    },
    {
      "cell_type": "code",
      "execution_count": 35,
      "metadata": {
        "colab": {
          "base_uri": "https://localhost:8080/"
        },
        "id": "YVXKFSWK-n5s",
        "outputId": "94b2cb03-7459-45ef-9554-5790f15310e2"
      },
      "outputs": [
        {
          "name": "stdout",
          "output_type": "stream",
          "text": [
            "Taiwan has 84.31% of educated citizens. This seems to be the best result.\n"
          ]
        }
      ],
      "source": [
        "# place of residence with the highest number of people with higher education\n",
        "max_key = percent_educated.idxmax()\n",
        "max_value = percent_educated[max_key]\n",
        "print(f'{max_key[0]} has {max_value}% of educated citizens. This seems to be the best result.')"
      ]
    },
    {
      "cell_type": "code",
      "execution_count": 36,
      "metadata": {
        "colab": {
          "base_uri": "https://localhost:8080/"
        },
        "id": "qHLiEbAN_Oub",
        "outputId": "57ff4273-28bf-4e6f-8637-d80ed3ead824"
      },
      "outputs": [
        {
          "name": "stdout",
          "output_type": "stream",
          "text": [
            "Guatemala has 3.12% of educated citizens. This seems to be the worst result.\n"
          ]
        }
      ],
      "source": [
        "# place of residence with the lowest number of people with higher education\n",
        "min_key = percent_educated.idxmin()\n",
        "min_value = percent_educated[min_key]\n",
        "print(f'{min_key[0]} has {min_value}% of educated citizens. This seems to be the worst result.')"
      ]
    }
  ],
  "metadata": {
    "colab": {
      "authorship_tag": "ABX9TyOy8cVIXZ5ZerciIhzHDTu8",
      "include_colab_link": true,
      "mount_file_id": "1_9XKixB9Pb4ihLo4KCNYI_TmqoSFdRP5",
      "provenance": []
    },
    "kernelspec": {
      "display_name": "Python 3",
      "name": "python3"
    },
    "language_info": {
      "name": "python"
    }
  },
  "nbformat": 4,
  "nbformat_minor": 0
}
